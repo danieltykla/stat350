{
 "cells": [
  {
   "cell_type": "markdown",
   "metadata": {
    "editable": false
   },
   "source": [
    "# Stat 350 Lab 1 Warm-Up\n",
    "## Due Tuesday, Sept 26 at 11:59 PM"
   ]
  },
  {
   "cell_type": "markdown",
   "metadata": {},
   "source": [
    "**You are required to work on this lab with a partner. Only one member of each pair should submit the lab.**\n",
    "\n",
    "**Please type your Cal Poly IDs (e.g., kjross) below. (Double click this cell to edit.)**\n",
    "\n",
    "- Student 1 Cal Poly ID: \n", tkim38
    "- Student 2 Cal Poly ID:  "
   ]
  },
  {
   "cell_type": "markdown",
   "metadata": {
    "editable": false
   },
   "source": [
    "This Jupyter notebook provides a template for you to fill in.  Complete the parts as indicated.  To run a cell, make sure the cell is highlighted by clicking on it, then press SHIFT + ENTER on your keyboard.  (Alternatively, you can click the \"play\" button in the toolbar above.)"
   ]
  },
  {
   "cell_type": "markdown",
   "metadata": {
    "editable": false
   },
   "source": [
    "In this lab you will use the Symbulate package.  You should have completed [Section 1](https://github.com/dlsun/symbulate/blob/master/tutorial/gs_probspace.ipynb) of the \"Getting Started Tutorial\" and  read Sections 1-3 of the [documentation](https://dlsun.github.io/symbulate/index.html).  A few specific links to the documentation are provided below, but it will probably make more sense if you read the documentation from start to finish.  **You should Symbulate commands whenever possible.**  If you find yourself writing long blocks of Python code, you are probably doing something wrong.  For example, you should not need to write any `for` loops.\n",
    "\n",
    "**Warning:** You may notice that many of the cells in this notebook are not editable. This is intentional and for your own safety. We have made these cells read-only so that you don't accidentally modify or delete them. However, you should still be able to execute the code in these cells."
   ]
  },
  {
   "cell_type": "markdown",
   "metadata": {
    "editable": false
   },
   "source": [
    "The following cell imports Symbulate. You should make sure that this cell is always run _first_. (Note that the cells in Jupyter notebooks are intended to be run in order.)"
   ]
  },
  {
   "cell_type": "code",
   "execution_count": null,
   "metadata": {
    "collapsed": true,
    "editable": false
   },
   "outputs": [],
   "source": [
    "from symbulate import *\n",
    "%matplotlib inline"
   ]
  },
  {
   "cell_type": "markdown",
   "metadata": {
    "editable": false
   },
   "source": [
    "# Introduction to Symbulate"
   ]
  },
  {
   "cell_type": "markdown",
   "metadata": {
    "editable": false
   },
   "source": [
    "A deck of 16 cards contains 4 cards in each of four suits ['clubs', 'diamonds', 'hearts', 'spades'].  The deck is shuffled and two cards are drawn in sequence.  We are interested in the following questions.\n",
    "\n",
    "1. What is the probability that the first card drawn is a heart?\n",
    "1. What is the probability that the second card drawn is a heart?\n",
    "1. If the first card drawn is a heart, what is the probability that the second card drawn is a heart?\n",
    "\n",
    "Before proceeding, give your best guess of each of these probabilites."
   ]
  },
  {
   "cell_type": "markdown",
   "metadata": {
    "editable": false
   },
   "source": [
    "We'll use simulation to obtain approximations to the probabilities in the questions above.  First we define the deck of cards (we only care about the suits for this exercise)."
   ]
  },
  {
   "cell_type": "code",
   "execution_count": null,
   "metadata": {
    "editable": false
   },
   "outputs": [],
   "source": [
    "cards = ['club', 'diamond', 'heart', 'spade'] * 4\n",
    "len(cards)"
   ]
  },
  {
   "cell_type": "markdown",
   "metadata": {
    "editable": false
   },
   "source": [
    "Now we define a [`BoxModel`](https://dlsun.github.io/symbulate/probspace.html#boxmodel) probability space corresponding to drawing two cards (`size = 2`) from the deck at random.  We'll assume that the cards are drawn without replacement (`replace = False`).  We also want to keep track of which card was drawn first and which second (`order_matters = True`).  "
   ]
  },
  {
   "cell_type": "code",
   "execution_count": null,
   "metadata": {
    "collapsed": true,
    "editable": false
   },
   "outputs": [],
   "source": [
    "P = BoxModel(cards, size = 2, replace = False, order_matters = True)"
   ]
  },
  {
   "cell_type": "markdown",
   "metadata": {
    "editable": false
   },
   "source": [
    "The `.draw()` method simulates a single outcome from the probability space."
   ]
  },
  {
   "cell_type": "code",
   "execution_count": null,
   "metadata": {
    "editable": false
   },
   "outputs": [],
   "source": [
    "P.draw()"
   ]
  },
  {
   "cell_type": "markdown",
   "metadata": {
    "editable": false
   },
   "source": [
    "Many outcomes can be simulated using `.sim()`. The following simulates 10000 draws and stores the results in the variable `sims`."
   ]
  },
  {
   "cell_type": "code",
   "execution_count": null,
   "metadata": {
    "editable": false
   },
   "outputs": [],
   "source": [
    "sims = P.sim(10000)\n",
    "sims"
   ]
  },
  {
   "cell_type": "markdown",
   "metadata": {
    "editable": false
   },
   "source": [
    "We can summarize the simulation results with `.tabulate()`.  Note that `('heart', 'club')` is counted as a separate outcome than `('club', 'heart')` because the order matters."
   ]
  },
  {
   "cell_type": "code",
   "execution_count": null,
   "metadata": {
    "editable": false
   },
   "outputs": [],
   "source": [
    "sims = P.sim(10000)\n",
    "sims.tabulate()"
   ]
  },
  {
   "cell_type": "markdown",
   "metadata": {
    "editable": false
   },
   "source": [
    "The above table could be used to estimate the probabilities in question.  Instead, we will illustrate several other tools available in Symbulate to summarize simulation output.\n",
    "\n",
    "First, we use a `filter` function to creat a subset of the simulated outcomes for which the first card is a heart.  We define a function `first_is_heart` that takes as an input a pair of values (`x`) and returns `True` if the first value in the pair (`x[0]`) is equal to 'hearts', and `False` otherwise. (Python indexing starts at 0: 0 is the first enrty, 1 is the second, and so on.)"
   ]
  },
  {
   "cell_type": "code",
   "execution_count": null,
   "metadata": {
    "editable": false
   },
   "outputs": [],
   "source": [
    "def first_is_heart(x):\n",
    "    return (x[0] == 'heart')\n",
    "\n",
    "first_is_heart(('heart', 'club'))"
   ]
  },
  {
   "cell_type": "code",
   "execution_count": null,
   "metadata": {
    "editable": false
   },
   "outputs": [],
   "source": [
    "first_is_heart(('club', 'heart'))"
   ]
  },
  {
   "cell_type": "markdown",
   "metadata": {
    "editable": false
   },
   "source": [
    "Now we `filter` the simulated outcomes to create the subset of outcomes for which `first_is_heart` returns `True`."
   ]
  },
  {
   "cell_type": "code",
   "execution_count": null,
   "metadata": {
    "editable": false
   },
   "outputs": [],
   "source": [
    "sims_first_is_heart = sims.filter(first_is_heart)\n",
    "sims_first_is_heart.tabulate()"
   ]
  },
  {
   "cell_type": "markdown",
   "metadata": {
    "editable": false
   },
   "source": [
    "Returning to question 1, we can estimate the probability that the first card is a heart by dividing the number of simulated draws for which the first card is a heart divided by the total number of simulated draws (using the length function `len` to count.)"
   ]
  },
  {
   "cell_type": "code",
   "execution_count": null,
   "metadata": {
    "editable": false
   },
   "outputs": [],
   "source": [
    "len(sims_first_is_heart) / len(sims)"
   ]
  },
  {
   "cell_type": "markdown",
   "metadata": {
    "editable": false
   },
   "source": [
    "The true probability is 4/16 = 0.25.  Your simulated probability should be close to 0.25, but there will be some natural variability due to the randomness in the simulation.  Very roughly, the margin of error of a probability estimate based on $N$ simulated repetitions is about $1/\\sqrt{N}$, so about 0.01 for 10000 repetitions. The interval constructed by adding $\\pm 0.01$ to your estimate will likely contain 0.25."
   ]
  },
  {
   "cell_type": "markdown",
   "metadata": {
    "editable": false
   },
   "source": [
    "## a)\n",
    "\n",
    "Recall question 2: What is the probability that the second card drawn is a heart? Use an analysis similar to the above &mdash; including defining an appropriate function to use with `filter` &mdash; to estimate the probability.  (Is your simulated value close to your initial guess?)"
   ]
  },
  {
   "cell_type": "code",
   "execution_count": null,
   "metadata": {
    "collapsed": true
   },
   "outputs": [],
   "source": [
    "# Type your Symbulate commands in this cell.\n",
    "# Aside from defining the `second_is_heart` function, you should use Symbulate commands exclusively."
   ]
  },
  {
   "cell_type": "markdown",
   "metadata": {
    "editable": false
   },
   "source": [
    "## b)\n",
    "\n",
    "Many people confuse the probabilities in (2) and (3).  The probability in (2) is an *unconditional* probability: we do not know whether or not the first card is a heart so we need to account for both possibilities.  All we know is that each of the 16 cards in the deck is equally likely to be shuffled into the second position, so the probability that the second card is a heart (without knowing what the first card is) is 4/16 = 0.25.\n",
    "\n",
    "In contrast, the probability in question 3 is a *conditional* probability: *given that the first card drawn is a heart*, what is the probability that the second card drawn is a heart?  Use simulation to estimate this conditional probability.  (Hint: what should the denominator represent?  What should the numerator represent? (You will need to define a new filter function for the numerator.)"
   ]
  },
  {
   "cell_type": "code",
   "execution_count": null,
   "metadata": {},
   "outputs": [],
   "source": [
    "# Type your Symbulate commands in this cell."
   ]
  },
  {
   "cell_type": "markdown",
   "metadata": {
    "editable": false
   },
   "source": [
    "## c)\n",
    "\n",
    "Given that the first card is a heart, there are 15 cards left in the deck, each of which is equally likely to be the second card, of which 3 are hearts.  So the conditional probability that the second card is a heart given that the first card is a heart is 3/15 = 0.20.  Verify that your simulated value is consistent with the true value.\n",
    "\n",
    "Now you will do a few calculations by hand.\n",
    "\n",
    "1. Compute, by hand, the conditional probability that the second card is a heart given that the first cards is NOT a heart.\n",
    "1. Construct, by hand, a hypothetical two-way table representing the results of 10000 draws.\n",
    "1. Use the hypothetical table to compute the probability that the second card is a heart.\n",
    "1. What is the relationship between the probability that the second card is a heart and the two conditional probabilities?"
   ]
  },
  {
   "cell_type": "markdown",
   "metadata": {},
   "source": [
    "**ENTER YOUR WRITTEN EXPLANATION HERE.**"
   ]
  },
  {
   "cell_type": "markdown",
   "metadata": {
    "editable": false
   },
   "source": [
    "## d)\n",
    "\n",
    "How would the answers to the previous questions change if the draws were made with replacement (so that the first card is replaced and the deck reshuffled before the second draw is drawn?)"
   ]
  },
  {
   "cell_type": "markdown",
   "metadata": {},
   "source": [
    "**ENTER YOUR WRITTEN EXPLANATION HERE.**"
   ]
  },
  {
   "cell_type": "markdown",
   "metadata": {
    "editable": false
   },
   "source": [
    "## Submission Instructions\n",
    "\n",
    "Before you submit this notebook, click the \"Kernel\" drop-down menu at the top of this page and select \"Restart & Run All\". This will ensure that all of the code in your notebook executes properly. Please fix any errors, and repeat the process until the entire notebook executes without any errors.\n",
    "\n",
    "Then, to submit your notebook, follow these instructions:\n",
    "- Save your notebook by going to `File > Save and Checkpoint`. \n",
    "- Download your notebook by going to `File > Download as > Notebook (.ipynb)`.\n",
    "- Upload the downloaded `.ipynb` file to PolyLearn."
   ]
  }
 ],
 "metadata": {
  "anaconda-cloud": {},
  "kernelspec": {
   "display_name": "Python 3",
   "language": "python",
   "name": "python3"
  },
  "language_info": {
   "codemirror_mode": {
    "name": "ipython",
    "version": 3
   },
   "file_extension": ".py",
   "mimetype": "text/x-python",
   "name": "python",
   "nbconvert_exporter": "python",
   "pygments_lexer": "ipython3",
   "version": "3.5.3"
  }
 },
 "nbformat": 4,
 "nbformat_minor": 2
}
