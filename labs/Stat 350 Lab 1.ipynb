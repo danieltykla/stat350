{
 "cells": [
  {
   "cell_type": "markdown",
   "metadata": {
    "editable": false
   },
   "source": [
    "# Stat 350 Lab 1\n",
    "## Due Tuesday, Sept 26 at 11:59 PM"
   ]
  },
  {
   "cell_type": "markdown",
   "metadata": {
    "deletable": false
   },
   "source": [
    "**You are required to work on this lab with a partner. Only one member of each pair should submit the lab.**\n",
    "\n",
    "**Please type your Cal Poly IDs (e.g., kjross) below. (Double click this cell to edit.)**\n",
    "\n",
    "- Student 1 Cal Poly ID: \n",
    "- Student 2 Cal Poly ID:  "
   ]
  },
  {
   "cell_type": "markdown",
   "metadata": {
    "editable": false
   },
   "source": [
    "This Jupyter notebook provides a template for you to fill in.  Complete the parts as indicated.  To run a cell, make sure the cell is highlighted by clicking on it, then press SHIFT + ENTER on your keyboard.  (Alternatively, you can click the \"play\" button in the toolbar above.)"
   ]
  },
  {
   "cell_type": "markdown",
   "metadata": {
    "editable": false
   },
   "source": [
    "In this lab you will use the Symbulate package.  You should have completed [Section 1](https://github.com/dlsun/symbulate/blob/master/tutorial/gs_probspace.ipynb) of the \"Getting Started Tutorial\" and read Sections 1-3 of the [documentation](https://dlsun.github.io/symbulate/index.html).  A few specific links to the documentation are provided below, but it will probably make more sense if you read the documentation from start to finish.  **You should Symbulate commands whenever possible.**  If you find yourself writing long blocks of Python code, you are probably doing something wrong.  For example, you should not need to write any `for` loops.\n",
    "\n",
    "**Warning:** You may notice that many of the cells in this notebook are not editable. This is intentional and for your own safety. We have made these cells read-only so that you don't accidentally modify or delete them. However, you should still be able to execute the code in these cells."
   ]
  },
  {
   "cell_type": "markdown",
   "metadata": {
    "editable": false
   },
   "source": [
    "The following cell imports Symbulate. You should make sure that this cell is always run _first_. (Note that the cells in Jupyter notebooks are intended to be run in order.)"
   ]
  },
  {
   "cell_type": "code",
   "execution_count": null,
   "metadata": {
    "collapsed": true,
    "editable": false
   },
   "outputs": [],
   "source": [
    "from symbulate import *\n",
    "%matplotlib inline"
   ]
  },
  {
   "cell_type": "markdown",
   "metadata": {
    "editable": false
   },
   "source": [
    "# The Coupon Collector Problem\n",
    "\n",
    "Each box of a certain type of cereal contains one of $n$ distinct prizes and you want to obtain a complete set. Suppose that each box of cereal is equally likely to contain any one of the $n$ prizes, and the particular prize\n",
    "that appears in one box has no bearing on the prize that appears in another box. You purchase\n",
    "cereal boxes one box at a time until you have the complete set of $n$ prizes.  What is the probability that you buy more than $k$ boxes?  In this problem you will use simulation to estimate this probability for different values of $n$ and $k$."
   ]
  },
  {
   "cell_type": "markdown",
   "metadata": {
    "editable": false
   },
   "source": [
    "Here is a little Python code you can use to label the $n$ prizes from 0 to $n-1$.  (Remember: Python starts indexing at 0.)"
   ]
  },
  {
   "cell_type": "code",
   "execution_count": null,
   "metadata": {
    "editable": false
   },
   "outputs": [],
   "source": [
    "n = 10\n",
    "prizes = list(range(n))\n",
    "prizes"
   ]
  },
  {
   "cell_type": "markdown",
   "metadata": {
    "editable": false
   },
   "source": [
    "And here is a function that returns the number of distinct prizes collected among a set of prizes."
   ]
  },
  {
   "cell_type": "code",
   "execution_count": null,
   "metadata": {
    "editable": false
   },
   "outputs": [],
   "source": [
    "def number_collected(x):\n",
    "    return len(set(x))\n",
    "\n",
    "# For example\n",
    "number_collected([2, 1, 2, 0, 2, 2, 0])"
   ]
  },
  {
   "cell_type": "markdown",
   "metadata": {
    "editable": false
   },
   "source": [
    "## Problem 1.\n",
    "\n",
    "First, let's assume that there are 3 prizes, $n=3$, a situation for which it is easy to calculate the exact probability by hand, by simply enumerating the possible outcomes."
   ]
  },
  {
   "cell_type": "code",
   "execution_count": null,
   "metadata": {
    "editable": false
   },
   "outputs": [],
   "source": [
    "n = 3\n",
    "prizes = list(range(n))\n",
    "prizes"
   ]
  },
  {
   "cell_type": "markdown",
   "metadata": {},
   "source": [
    "### a)\n",
    "\n",
    "Define a probability space for the sequence of prizes obtained after buying $3$ boxes (first box, second box, third box), and simulate a single outcome.  (Hint: try [BoxModel](https://dlsun.github.io/symbulate/probspace.html#boxmodel).)"
   ]
  },
  {
   "cell_type": "code",
   "execution_count": null,
   "metadata": {
    "autograder": {
     "comments": null,
     "id": "q1a",
     "score": null
    },
    "collapsed": true,
    "deletable": false
   },
   "outputs": [],
   "source": [
    "# Type all of your code for this problem in this cell.\n",
    "# Feel free to add additional cells for scratch work, but they will not be graded."
   ]
  },
  {
   "cell_type": "markdown",
   "metadata": {
    "editable": false
   },
   "source": [
    "### b)\n",
    "\n",
    "Now simulate many outcomes and summarize the results.  Does it appear that each sequence of prizes is equally likely?  (Hint: try the various [Simulation tools](https://dlsun.github.io/symbulate/sim.html#sim) like `.sim()` and `.tabulate()`.)"
   ]
  },
  {
   "cell_type": "code",
   "execution_count": null,
   "metadata": {
    "autograder": {
     "comments": null,
     "id": "q1b",
     "score": null
    },
    "collapsed": true,
    "deletable": false
   },
   "outputs": [],
   "source": [
    "# Type all of your code for this problem in this cell.\n",
    "# Feel free to add additional cells for scratch work, but they will not be graded."
   ]
  },
  {
   "cell_type": "markdown",
   "metadata": {
    "editable": false
   },
   "source": [
    "### c)\n",
    "\n",
    "Count the number of distinct prizes collected for each of the simulated outcomes using the `number_collected` function.  (Hint: try [`.apply()`](https://dlsun.github.io/symbulate/sim.html#apply).)"
   ]
  },
  {
   "cell_type": "code",
   "execution_count": null,
   "metadata": {
    "autograder": {
     "comments": null,
     "id": "q1c",
     "score": null
    },
    "collapsed": true,
    "deletable": false
   },
   "outputs": [],
   "source": [
    "# Type all of your code for this problem in this cell.\n",
    "# Feel free to add additional cells for scratch work, but they will not be graded."
   ]
  },
  {
   "cell_type": "markdown",
   "metadata": {
    "editable": false
   },
   "source": [
    "### d)\n",
    "\n",
    "Use the simulation results to estimate the probability the more than $k=3$ boxes are needed to complete a set of $n=3$ prizes.  (Hint: see the \"Recap\" at the end of the [simulation tools](https://dlsun.github.io/symbulate/sim.html#sim) section for a few suggestions.)"
   ]
  },
  {
   "cell_type": "code",
   "execution_count": null,
   "metadata": {
    "autograder": {
     "comments": null,
     "id": "q1d",
     "score": null
    },
    "collapsed": true,
    "deletable": false
   },
   "outputs": [],
   "source": [
    "# Type all of your code for this problem in this cell.\n",
    "# Feel free to add additional cells for scratch work, but they will not be graded."
   ]
  },
  {
   "cell_type": "markdown",
   "metadata": {
    "editable": false
   },
   "source": [
    "## Problem 2.\n",
    "\n",
    "Use simulation to estimate the probability that more than $k=100$ boxes are need to complete a set of $n=20$ prizes, a situation for which it is extremely difficult to compute the probability analytically."
   ]
  },
  {
   "cell_type": "code",
   "execution_count": null,
   "metadata": {
    "autograder": {
     "comments": null,
     "id": "q2",
     "score": null
    },
    "deletable": false
   },
   "outputs": [],
   "source": [
    "# Type all of your code for this problem in this cell.\n",
    "# Feel free to add additional cells for scratch work, but they will not be graded."
   ]
  },
  {
   "cell_type": "markdown",
   "metadata": {
    "editable": false
   },
   "source": [
    "## Problem 3.\n",
    "\n",
    "Now suppose that some prizes are harder to find than others.  In particular, suppose that the prizes are labeled 1, 2, 3, 4, 5.  Assume that prize 2 is twice as likely as prize 1, prize 3 is three times as likely as prize 1, prize 4 is four times as likely as prize 1, and prize 5 is five times as likely as prize 1.  (Hint: define a BoxModel with a dictionary input with `replace = True`.)"
   ]
  },
  {
   "cell_type": "code",
   "execution_count": null,
   "metadata": {
    "autograder": {
     "comments": null,
     "id": "q1a",
     "score": null
    },
    "deletable": false
   },
   "outputs": [],
   "source": [
    "# Type all of your code for this problem in this cell.\n",
    "# Feel free to add additional cells for scratch work, but they will not be graded."
   ]
  },
  {
   "cell_type": "markdown",
   "metadata": {},
   "source": [
    "## Submission Instructions\n",
    "\n",
    "Before you submit this notebook, click the \"Kernel\" drop-down menu at the top of this page and select \"Restart & Run All\". This will ensure that all of the code in your notebook executes properly. Please fix any errors, and repeat the process until the entire notebook executes without any errors.\n",
    "\n",
    "Then, to submit your notebook, follow these instructions:\n",
    "- Save your notebook by going to `File > Save and Checkpoint`. \n",
    "- Download your notebook by going to `File > Download as > Notebook (.ipynb)`.\n",
    "- Upload the downloaded `.ipynb` file to PolyLearn."
   ]
  }
 ],
 "metadata": {
  "anaconda-cloud": {},
  "kernelspec": {
   "display_name": "Python 3",
   "language": "python",
   "name": "python3"
  },
  "language_info": {
   "codemirror_mode": {
    "name": "ipython",
    "version": 3
   },
   "file_extension": ".py",
   "mimetype": "text/x-python",
   "name": "python",
   "nbconvert_exporter": "python",
   "pygments_lexer": "ipython3",
   "version": "3.5.3"
  }
 },
 "nbformat": 4,
 "nbformat_minor": 2
}
