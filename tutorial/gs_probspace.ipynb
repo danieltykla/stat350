{
 "cells": [
  {
   "cell_type": "markdown",
   "metadata": {},
   "source": [
    "# Getting Started with Symbulate\n",
    "\n",
    "## Section 1. Probability Spaces"
   ]
  },
  {
   "cell_type": "markdown",
   "metadata": {},
   "source": [
    "<[Contents](index.ipynb) | [Random variables](gs_rv.ipynb)>"
   ]
  },
  {
   "cell_type": "markdown",
   "metadata": {},
   "source": [
    "**Every time you start Symbulate**, you must first run (SHIFT-ENTER) the following commands."
   ]
  },
  {
   "cell_type": "code",
   "execution_count": null,
   "metadata": {
    "collapsed": true
   },
   "outputs": [],
   "source": [
    "from symbulate import *\n",
    "%matplotlib inline"
   ]
  },
  {
   "cell_type": "markdown",
   "metadata": {},
   "source": [
    "This section provides an introduction to the basic Symbulate commands for simulating outcomes of a random process (like flipping a coin or rolling a die) and summarizing simulation output."
   ]
  },
  {
   "cell_type": "markdown",
   "metadata": {},
   "source": [
    "### Example 1.1: Flipping a coin"
   ]
  },
  {
   "cell_type": "markdown",
   "metadata": {},
   "source": [
    "The following commands simulate a single flip of a fair coin."
   ]
  },
  {
   "cell_type": "code",
   "execution_count": null,
   "metadata": {},
   "outputs": [],
   "source": [
    "flip = BoxModel([\"Heads\", \"Tails\"])\n",
    "flip.draw()"
   ]
  },
  {
   "cell_type": "markdown",
   "metadata": {},
   "source": [
    "A [`BoxModel`](https://dlsun.github.io/symbulate/probspace.html#boxmodel) is a simple example of a [probability space](https://dlsun.github.io/symbulate/probspace.html).  The first line above creates a box with two tickets, \"Heads\" and \"Tails\". The second line draws a ticket from this box at random and returns the result of the draw.  (By default each ticket is equally likely to be selected.  This can be changed with the [`probs`](https://dlsun.github.io/symbulate/probspace.html#BoxModel-options) argument.)\n",
    "\n",
    "Many simple probability models can be thought of as drawing tickets from a box, like in the following exercise."
   ]
  },
  {
   "cell_type": "markdown",
   "metadata": {},
   "source": [
    "### Exercise 1.2: Rolling a die"
   ]
  },
  {
   "cell_type": "markdown",
   "metadata": {},
   "source": [
    "Use [`BoxModel`](https://dlsun.github.io/symbulate/probspace.html#boxmodel) and [`.draw()`](https://dlsun.github.io/symbulate/probspace.html#Draw) to simulate a single roll of a fair six-sided die."
   ]
  },
  {
   "cell_type": "code",
   "execution_count": null,
   "metadata": {
    "collapsed": true
   },
   "outputs": [],
   "source": [
    "### Type your commands in this cell and then run using SHIFT-ENTER."
   ]
  },
  {
   "cell_type": "markdown",
   "metadata": {},
   "source": [
    "<a id='e1.2'></a>\n",
    "[Solution](#sol1.2)"
   ]
  },
  {
   "cell_type": "markdown",
   "metadata": {},
   "source": [
    "### Example 1.3: A sequence of five coin flips"
   ]
  },
  {
   "cell_type": "markdown",
   "metadata": {},
   "source": [
    "The following commands simulate five flips of a fair coin.  Note that it is often more convenient to represent Heads as 1 and Tails as 0."
   ]
  },
  {
   "cell_type": "code",
   "execution_count": null,
   "metadata": {},
   "outputs": [],
   "source": [
    "flips = BoxModel([1, 0], size=5)\n",
    "flips.draw()"
   ]
  },
  {
   "cell_type": "markdown",
   "metadata": {},
   "source": [
    "The first argument of [`BoxModel`](https://dlsun.github.io/symbulate/probspace.html#boxmodel) creates a box with two tickets, 0 and 1, and the second argument, [`size`](https://dlsun.github.io/symbulate/probspace.html#BoxModel-options), determines the number of tickets to draw from the box.  (By default, each ticket is replaced before the next draw; this can be changed with the [`replace`](https://dlsun.github.io/symbulate/probspace.html#BoxModel-options) argument.)"
   ]
  },
  {
   "cell_type": "markdown",
   "metadata": {},
   "source": [
    "<a id='a1.3'></a>"
   ]
  },
  {
   "cell_type": "markdown",
   "metadata": {},
   "source": [
    "### Exercise 1.4: Rolling a pair of six-sided dice"
   ]
  },
  {
   "cell_type": "markdown",
   "metadata": {},
   "source": [
    "Use [`BoxModel`](https://dlsun.github.io/symbulate/probspace.html#boxmodel) with the [`size`](https://dlsun.github.io/symbulate/probspace.html#BoxModel-options) argument and [`.draw()`](https://dlsun.github.io/symbulate/probspace.html#Draw)  to simulate rolling two fair six-sided die. "
   ]
  },
  {
   "cell_type": "code",
   "execution_count": null,
   "metadata": {
    "collapsed": true
   },
   "outputs": [],
   "source": [
    "### Type your commands in this cell and then run using SHIFT-ENTER."
   ]
  },
  {
   "cell_type": "markdown",
   "metadata": {},
   "source": [
    "<a id='e1.4'></a>\n",
    "[Solution](#sol1.4)"
   ]
  },
  {
   "cell_type": "markdown",
   "metadata": {},
   "source": [
    "### Example 1.5: Simulating multiple draws with `.sim()`"
   ]
  },
  {
   "cell_type": "markdown",
   "metadata": {},
   "source": [
    "In [Example 1.3](#e1.2) one draw consisted of a sequence of five coin flips. The following commands simulate 10000 such draws using [`.sim()`](https://dlsun.github.io/symbulate/sim.html#Simulate)"
   ]
  },
  {
   "cell_type": "code",
   "execution_count": null,
   "metadata": {},
   "outputs": [],
   "source": [
    "flips = BoxModel([1, 0], size=5)\n",
    "flips.sim(10000)"
   ]
  },
  {
   "cell_type": "markdown",
   "metadata": {},
   "source": [
    "Note that every time [`.sim()`](https://dlsun.github.io/symbulate/sim.html#Simulate) is called new values are simulated. Store simulated values as a variable in order to perform multiple operations in different lines of code on the same set of values."
   ]
  },
  {
   "cell_type": "code",
   "execution_count": null,
   "metadata": {},
   "outputs": [],
   "source": [
    "flips = BoxModel([1, 0], size=5)\n",
    "sims = flips.sim(10000)\n",
    "sims"
   ]
  },
  {
   "cell_type": "markdown",
   "metadata": {},
   "source": [
    "Be careful not to confuse the \"sample size\" of a single outcome (e.g. `size=5` for 5 flips) with the number of outcomes to simulate (`.sim(10000)` for 10000 simulated outcomes)."
   ]
  },
  {
   "cell_type": "markdown",
   "metadata": {},
   "source": [
    "### Exercise 1.6: Simulating sets of coin flips"
   ]
  },
  {
   "cell_type": "markdown",
   "metadata": {},
   "source": [
    "1) Simulate 3 sequences of 5 coin flips each."
   ]
  },
  {
   "cell_type": "code",
   "execution_count": null,
   "metadata": {
    "collapsed": true
   },
   "outputs": [],
   "source": [
    "### Type your commands in this cell and then run using SHIFT-ENTER."
   ]
  },
  {
   "cell_type": "markdown",
   "metadata": {},
   "source": [
    "2) Simulate 5 sequences of 3 coin flips each."
   ]
  },
  {
   "cell_type": "code",
   "execution_count": null,
   "metadata": {
    "collapsed": true
   },
   "outputs": [],
   "source": [
    "### Type your commands in this cell and then run using SHIFT-ENTER."
   ]
  },
  {
   "cell_type": "markdown",
   "metadata": {},
   "source": [
    "<a id='e1.6'></a>\n",
    "[Solution](#sol1.6)"
   ]
  },
  {
   "cell_type": "markdown",
   "metadata": {},
   "source": [
    "### Example 1.7: Counting the number of Heads in a sequence of coin flips"
   ]
  },
  {
   "cell_type": "markdown",
   "metadata": {},
   "source": [
    "With 1 representing Heads and 0 Tails, the number of Heads in a sequence of coin flips can be counted by summing the 0/1 values.  Calling [`.draw()`](https://dlsun.github.io/symbulate/probspace.html#Draw) below simulates a single draw from `P`, a sequence of 0s and 1s representing five coin flips, and then these values are summed to return the number of Heads.  "
   ]
  },
  {
   "cell_type": "code",
   "execution_count": null,
   "metadata": {},
   "outputs": [],
   "source": [
    "P = BoxModel([1, 0], size=5)\n",
    "sum(P.draw())"
   ]
  },
  {
   "cell_type": "markdown",
   "metadata": {},
   "source": [
    "The above code simulates the value of the number of Heads in a single sequence of five coin flips.  Many such values can be simulated using [`.sim()`](https://dlsun.github.io/symbulate/sim.html#sim) followed by the [`.apply()`](https://dlsun.github.io/symbulate/sim.html#apply) method to apply the `sum` function to each simulated outcome."
   ]
  },
  {
   "cell_type": "code",
   "execution_count": null,
   "metadata": {},
   "outputs": [],
   "source": [
    "P = BoxModel([1, 0], size=5)\n",
    "P.sim(10000).apply(sum)"
   ]
  },
  {
   "cell_type": "markdown",
   "metadata": {},
   "source": [
    "The number of Heads in a sequence of five coin flips is an example of a *random variable* ([`RV`](https://dlsun.github.io/symbulate/rv.html)).  [Section 2](gs_rv.ipynb) of the tutorial covers random variables in more detail. "
   ]
  },
  {
   "cell_type": "markdown",
   "metadata": {},
   "source": [
    "<a id='e1.7'></a>"
   ]
  },
  {
   "cell_type": "markdown",
   "metadata": {},
   "source": [
    "### Exercise 1.8: Sum of two dice rolls"
   ]
  },
  {
   "cell_type": "markdown",
   "metadata": {},
   "source": [
    "Use [`BoxModel`](https://dlsun.github.io/symbulate/probspace.html#boxmodel), [`.sim()`](https://dlsun.github.io/symbulate/sim.html#sim), and [`.apply()`](https://dlsun.github.io/symbulate/sim.html#apply) to simulate 10000 values of the sum of two six-sided dice rolls."
   ]
  },
  {
   "cell_type": "code",
   "execution_count": null,
   "metadata": {
    "collapsed": true
   },
   "outputs": [],
   "source": [
    "### Type your commands in this cell and then run using SHIFT-ENTER."
   ]
  },
  {
   "cell_type": "markdown",
   "metadata": {},
   "source": [
    "<a id='e1.8'></a>\n",
    "[Solution](#sol1.8)"
   ]
  },
  {
   "cell_type": "markdown",
   "metadata": {},
   "source": [
    "### Example 1.9: Summarizing simulation results and estimating probabilities"
   ]
  },
  {
   "cell_type": "markdown",
   "metadata": {},
   "source": [
    "In [Example 1.7](#e1.6) we simulated 10000 values of the number of Heads in five flips of a coin.  The simulated values can be summarized using [`.tabulate()`](https://dlsun.github.io/symbulate/sim.html#tabulate).  "
   ]
  },
  {
   "cell_type": "code",
   "execution_count": null,
   "metadata": {
    "scrolled": true
   },
   "outputs": [],
   "source": [
    "P = BoxModel([1, 0], size=5)\n",
    "sims = P.sim(10000).apply(sum)\n",
    "sims.tabulate()"
   ]
  },
  {
   "cell_type": "markdown",
   "metadata": {},
   "source": [
    "We can see, for example, that it is much more likely to obtain 3 Heads than 0 Heads in 5 flips of a coin.  By default, [`.tabulate()`](https://dlsun.github.io/symbulate/sim.html#tabulate) displays frequencies (counts).  Use [`.tabulate(normalize=True)`](https://dlsun.github.io/symbulate/sim.html#tabulate) to display relative frequencies (proportions).  The probability of a random event can be estimated by its simulated relative frequency."
   ]
  },
  {
   "cell_type": "code",
   "execution_count": null,
   "metadata": {},
   "outputs": [],
   "source": [
    "sims.tabulate(normalize=True)"
   ]
  },
  {
   "cell_type": "markdown",
   "metadata": {},
   "source": [
    "There are several other [tools](https://dlsun.github.io/symbulate/sim.html) for summarizing simulations, like the [`count`](https://dlsun.github.io/symbulate/sim.html#count) functions below.  (Displaying output in a [plot](https://dlsun.github.io/symbulate/rv.html#plot) will be covered in [Section 2](gs_rv.ipynb) of the tutorial.)"
   ]
  },
  {
   "cell_type": "code",
   "execution_count": null,
   "metadata": {},
   "outputs": [],
   "source": [
    "sims.count_eq(2) / 10000"
   ]
  },
  {
   "cell_type": "code",
   "execution_count": null,
   "metadata": {},
   "outputs": [],
   "source": [
    "sims.count_leq(2) / 10000"
   ]
  },
  {
   "cell_type": "markdown",
   "metadata": {},
   "source": [
    "### Exercise 1.10: Summarizing simulation results for dice rolls"
   ]
  },
  {
   "cell_type": "markdown",
   "metadata": {},
   "source": [
    "In [Exercise 1.8](#e1.7) you simulated 10000 values of the sum of two six-sided dice rolls.\n",
    "\n",
    "1) Create a table of relative frequencies of the simulated values."
   ]
  },
  {
   "cell_type": "code",
   "execution_count": null,
   "metadata": {
    "collapsed": true
   },
   "outputs": [],
   "source": [
    "### Type your commands in this cell and then run using SHIFT-ENTER."
   ]
  },
  {
   "cell_type": "markdown",
   "metadata": {},
   "source": [
    "2) Use a [count](https://dlsun.github.io/symbulate/sim.html#count) function to estimate the probability that the sum of two dice rolls is greater than nine.  (Bonus: try doing this several ways.)"
   ]
  },
  {
   "cell_type": "code",
   "execution_count": null,
   "metadata": {
    "collapsed": true
   },
   "outputs": [],
   "source": [
    "### Type your commands in this cell and then run using SHIFT-ENTER."
   ]
  },
  {
   "cell_type": "markdown",
   "metadata": {},
   "source": [
    "<a id='e1.10'></a>\n",
    "[Solution](#sol1.10)"
   ]
  },
  {
   "cell_type": "markdown",
   "metadata": {},
   "source": [
    "### Example 1.11: Other common probability models  - Binomial"
   ]
  },
  {
   "cell_type": "markdown",
   "metadata": {},
   "source": [
    "The second table in [Example 1.9](#e1.8) displays the approximate [distribution](https://dlsun.github.io/symbulate/rv.html#distribution) of the number of Heads in five flips of a fair coin. This distribution is called the [`Binomial`](https://dlsun.github.io/symbulate/common_discrete.html#binomial) distribution with `n=5` flips and a probability that each flip lands on Heads equal to `p=0.5`. The number of Heads can be simulated from this Binomial distribution directly, without first simulating the individual coin flips."
   ]
  },
  {
   "cell_type": "code",
   "execution_count": null,
   "metadata": {},
   "outputs": [],
   "source": [
    "Binomial(n=5, p=0.5).sim(10000).tabulate()"
   ]
  },
  {
   "cell_type": "markdown",
   "metadata": {},
   "source": [
    "In addition to [`Binomial`](https://dlsun.github.io/symbulate/common_discrete.html#binomial), many other [commonly used probability spaces](https://dlsun.github.io/symbulate/common_discrete.html) are built in to Symbulate."
   ]
  },
  {
   "cell_type": "markdown",
   "metadata": {},
   "source": [
    "### Exercise 1.12: Simulating from a Binomial model"
   ]
  },
  {
   "cell_type": "markdown",
   "metadata": {},
   "source": [
    "1) Use [`Binomial`](https://dlsun.github.io/symbulate/common_discrete.html#binomial) and [`.sim()`](https://dlsun.github.io/symbulate/sim.html#Simulate) to simulate 10000 values of the number of Heads in a sequence of 10 coin flips and tabulate the results."
   ]
  },
  {
   "cell_type": "code",
   "execution_count": null,
   "metadata": {
    "collapsed": true
   },
   "outputs": [],
   "source": [
    "### Type your commands in this cell and then run using SHIFT-ENTER."
   ]
  },
  {
   "cell_type": "markdown",
   "metadata": {},
   "source": [
    "2) Use a [count](https://dlsun.github.io/symbulate/sim.html#count) function to estimate the probability of getting 7 or more heads out of 10 coin flips."
   ]
  },
  {
   "cell_type": "code",
   "execution_count": null,
   "metadata": {
    "collapsed": true
   },
   "outputs": [],
   "source": [
    "### Type your commands in this cell and then run using SHIFT-ENTER."
   ]
  },
  {
   "cell_type": "markdown",
   "metadata": {},
   "source": [
    "<a id='e1.12'></a>\n",
    "[Solution](#sol1.12)"
   ]
  },
  {
   "cell_type": "markdown",
   "metadata": {},
   "source": [
    "### Example 1.13: Rolling different dice"
   ]
  },
  {
   "cell_type": "markdown",
   "metadata": {},
   "source": [
    "In [Exercise 1.4](#a1.3) we simulated a pair of rolls of a six-sided die using [`BoxModel`](https://dlsun.github.io/symbulate/probspace.html#boxmodel) with [`size=2`](https://dlsun.github.io/symbulate/probspace.html#BoxModel-options).  Now suppose we want to roll a six-sided die and a four-sided die.  This can be accomplished by setting up a [`BoxModel`](https://dlsun.github.io/symbulate/probspace.html#boxmodel) for each die and combining them with an asterisks [`*`](https://dlsun.github.io/symbulate/probspace.html#indep). "
   ]
  },
  {
   "cell_type": "code",
   "execution_count": null,
   "metadata": {},
   "outputs": [],
   "source": [
    "rolls = BoxModel([1, 2, 3, 4, 5, 6]) * BoxModel([1, 2, 3, 4])\n",
    "rolls.draw()"
   ]
  },
  {
   "cell_type": "markdown",
   "metadata": {},
   "source": [
    "Note that the outcome of the draw is a pair of values.  The product [`*`](https://dlsun.github.io/symbulate/probspace.html#indep) notation indicates that that the two rolls are  [independent](https://dlsun.github.io/symbulate/probspace.html#Independent-probability-spaces)."
   ]
  },
  {
   "cell_type": "markdown",
   "metadata": {},
   "source": [
    "### Exercise 1.14: Independent random numbers"
   ]
  },
  {
   "cell_type": "markdown",
   "metadata": {},
   "source": [
    "Draw two random whole numbers, first an odd number and then an even number, between 1 and 10 (inclusive).  Hint: Use two [`BoxModel`](https://dlsun.github.io/symbulate/probspace.html#boxmodel)s, one for odd and one for even, and combine them with [`*`](https://dlsun.github.io/symbulate/probspace.html#indep)."
   ]
  },
  {
   "cell_type": "code",
   "execution_count": null,
   "metadata": {
    "collapsed": true
   },
   "outputs": [],
   "source": [
    "### Type your commands in this cell and then run using SHIFT-ENTER."
   ]
  },
  {
   "cell_type": "markdown",
   "metadata": {},
   "source": [
    "<a id='e1.14'></a>\n",
    "[Solution](#sol1.14)"
   ]
  },
  {
   "cell_type": "markdown",
   "metadata": {},
   "source": [
    "### Example 1.15: BoxModel with non-equally likely tickets"
   ]
  },
  {
   "cell_type": "markdown",
   "metadata": {},
   "source": [
    "By default [`BoxModel`](https://dlsun.github.io/symbulate/probspace.html#boxmodel) assumes that each ticket is equally likely, but there are several ways that non-equally likely situations can be handled.  As an example, suppose a special six-sided die has one face with a 1, two faces with 2, two faces with a 3, and one face with a 4. We can create a [`BoxModel`](https://dlsun.github.io/symbulate/probspace.html#boxmodel) with one ticket labeled 1, two tickets labeled 2, two labeled 3, and one labeled 4."
   ]
  },
  {
   "cell_type": "code",
   "execution_count": null,
   "metadata": {},
   "outputs": [],
   "source": [
    "die = BoxModel([1, 2, 2, 3, 3, 4])\n",
    "die.sim(10000).tabulate(normalize=True)"
   ]
  },
  {
   "cell_type": "markdown",
   "metadata": {},
   "source": [
    "Rather than repeating values, we can specify a [`BoxModel`](https://dlsun.github.io/symbulate/probspace.html#boxmodel) by each of the possible values along with the number of tickets with that value, as in the following."
   ]
  },
  {
   "cell_type": "code",
   "execution_count": null,
   "metadata": {},
   "outputs": [],
   "source": [
    "die = BoxModel({1: 1, 2: 2, 3: 2, 4: 1})\n",
    "die.sim(10000).tabulate(normalize=True)"
   ]
  },
  {
   "cell_type": "markdown",
   "metadata": {},
   "source": [
    "A non-equally likely [`BoxModel`](https://dlsun.github.io/symbulate/probspace.html#boxmodel) can also be defined using the [`probs`](https://dlsun.github.io/symbulate/probspace.html#BoxModel-options) argument, by specifying a probability value for each ticket. "
   ]
  },
  {
   "cell_type": "code",
   "execution_count": null,
   "metadata": {},
   "outputs": [],
   "source": [
    "die = BoxModel([1, 2, 3, 4], probs=[1/6, 2/6, 2/6, 1/6])\n",
    "die.sim(10000).tabulate(normalize=True)"
   ]
  },
  {
   "cell_type": "markdown",
   "metadata": {},
   "source": [
    "Notice that the relative frequencies are close to the specified probabilities."
   ]
  },
  {
   "cell_type": "markdown",
   "metadata": {},
   "source": [
    "### Exercise 1.16: Flipping a weighted coin\n",
    "<a id='ex1.16'></a>"
   ]
  },
  {
   "cell_type": "markdown",
   "metadata": {},
   "source": [
    "A certain weighted coin lands on heads 75% of the time and tails 25% of the time. Use [`BoxModel`](https://dlsun.github.io/symbulate/probspace.html#boxmodel) with the [`probs`](https://dlsun.github.io/symbulate/probspace.html#BoxModel-options) argument to simulate and summarize many flips of the weighted coin."
   ]
  },
  {
   "cell_type": "code",
   "execution_count": null,
   "metadata": {
    "collapsed": true
   },
   "outputs": [],
   "source": [
    "### Type your commands in this cell and then run using SHIFT-ENTER."
   ]
  },
  {
   "cell_type": "markdown",
   "metadata": {},
   "source": [
    "<a id='e1.16'></a>\n",
    "[Solution](#sol1.16)"
   ]
  },
  {
   "cell_type": "markdown",
   "metadata": {},
   "source": [
    "## Additional Exercises"
   ]
  },
  {
   "cell_type": "markdown",
   "metadata": {},
   "source": [
    "<a id='ex1.17'></a>\n",
    "### Exercise 1.17: Sum of two different dice"
   ]
  },
  {
   "cell_type": "markdown",
   "metadata": {},
   "source": [
    "Use simulation to approximate the distribution of the sum of a six-sided die and a four-sided die."
   ]
  },
  {
   "cell_type": "code",
   "execution_count": null,
   "metadata": {
    "collapsed": true
   },
   "outputs": [],
   "source": [
    "### Type your commands in this cell and then run using SHIFT-ENTER."
   ]
  },
  {
   "cell_type": "markdown",
   "metadata": {},
   "source": [
    "[Hint](#h1.17)"
   ]
  },
  {
   "cell_type": "markdown",
   "metadata": {},
   "source": [
    "<a id='e1.17'></a>\n",
    "[Solution](#sol1.17)"
   ]
  },
  {
   "cell_type": "markdown",
   "metadata": {},
   "source": [
    "### Exercise 1.18: Estimating probabilities of the sum of different dice"
   ]
  },
  {
   "cell_type": "markdown",
   "metadata": {},
   "source": [
    "Suppose we have a special six-sided die that has one face with a 1, one face with a 2, two faces with a 3, and two faces with 4. We also have a fair four-sided die. Use simulation to estimate the probability that the sum of these two dice is at least to 6. "
   ]
  },
  {
   "cell_type": "code",
   "execution_count": null,
   "metadata": {
    "collapsed": true
   },
   "outputs": [],
   "source": [
    "### Type your commands in this cell and then run using SHIFT-ENTER."
   ]
  },
  {
   "cell_type": "markdown",
   "metadata": {},
   "source": [
    "[Hint](#h1.18)"
   ]
  },
  {
   "cell_type": "markdown",
   "metadata": {},
   "source": [
    "<a id='e1.18'></a>\n",
    "[Solution](#sol1.18)"
   ]
  },
  {
   "cell_type": "markdown",
   "metadata": {},
   "source": [
    "### Exercise 1.19: Summarizing multiple draws of weighted coin flips"
   ]
  },
  {
   "cell_type": "markdown",
   "metadata": {},
   "source": [
    "Consider a certain coin that lands on heads 60% of the time and tails 40% of the time.  \n",
    "\n",
    "1) Approximate the distribution of the number of heads in four flips of this coin by first simulating the individual flips."
   ]
  },
  {
   "cell_type": "code",
   "execution_count": null,
   "metadata": {
    "collapsed": true
   },
   "outputs": [],
   "source": [
    "### Type your commands in this cell and then run using SHIFT-ENTER."
   ]
  },
  {
   "cell_type": "markdown",
   "metadata": {},
   "source": [
    "2) Approximate the distribution of the number of heads in four flips of this coin by simulating directly from a [`Binomial`](https://dlsun.github.io/symbulate/common_discrete.html#binomial) distribution."
   ]
  },
  {
   "cell_type": "code",
   "execution_count": null,
   "metadata": {
    "collapsed": true
   },
   "outputs": [],
   "source": [
    "### Type your commands in this cell and then run using SHIFT-ENTER."
   ]
  },
  {
   "cell_type": "markdown",
   "metadata": {},
   "source": [
    "[Hint](#h1.19)"
   ]
  },
  {
   "cell_type": "markdown",
   "metadata": {},
   "source": [
    "<a id='e1.19'></a>\n",
    "[Solution](#sol1.19)  "
   ]
  },
  {
   "cell_type": "markdown",
   "metadata": {},
   "source": [
    "### Exercise 1.20: Max of two dice rolls"
   ]
  },
  {
   "cell_type": "markdown",
   "metadata": {},
   "source": [
    "Approximate the distribution of the larger of two rolls of a fair six-sided die,  and estimate the probability that the larger of the two rolls is at least 5."
   ]
  },
  {
   "cell_type": "code",
   "execution_count": null,
   "metadata": {
    "collapsed": true
   },
   "outputs": [],
   "source": [
    "### Type your commands in this cell and then run using SHIFT-ENTER."
   ]
  },
  {
   "cell_type": "markdown",
   "metadata": {},
   "source": [
    "[Hint](#h1.20)"
   ]
  },
  {
   "cell_type": "markdown",
   "metadata": {},
   "source": [
    "<a id='e1.20'></a>\n",
    "[Solution](#sol1.20)"
   ]
  },
  {
   "cell_type": "markdown",
   "metadata": {},
   "source": [
    "[Back to Contents](#contents)"
   ]
  },
  {
   "cell_type": "markdown",
   "metadata": {},
   "source": [
    "## Hints for Additional Exercises"
   ]
  },
  {
   "cell_type": "markdown",
   "metadata": {},
   "source": [
    "<a id='h1.17'></a>\n",
    "### Exercise 1.17: Hint"
   ]
  },
  {
   "cell_type": "markdown",
   "metadata": {},
   "source": [
    "In [Exercise 1.8](#e1.7) we simulated the value of the number of Heads in a single sequence of 1/0 coin flips by using [`.apply()`](https://dlsun.github.io/symbulate/sim.html#apply)  with the `sum` function. In [Example 1.13](#e1.12) we simulated rolling a six-sided die and a four-sided die."
   ]
  },
  {
   "cell_type": "markdown",
   "metadata": {},
   "source": [
    "<a id='h1.18'></a>\n",
    "[Back](#e1.17)  "
   ]
  },
  {
   "cell_type": "markdown",
   "metadata": {},
   "source": [
    "### Exercise 1.18: Hint"
   ]
  },
  {
   "cell_type": "markdown",
   "metadata": {},
   "source": [
    "In [Example 1.9](#e1.8) we estimated the probability of a random event using a `count` function. In [Exercise 1.17](#ex1.17) we found the sum of a fair six-sided dice and a fair four-sided dice. In [Example 1.15](#e1.14) we created a BoxModel for unequally likely tickets."
   ]
  },
  {
   "cell_type": "markdown",
   "metadata": {},
   "source": [
    "<a id='h1.19'></a>\n",
    "[Back](#e1.18)  "
   ]
  },
  {
   "cell_type": "markdown",
   "metadata": {},
   "source": [
    "### Exercise 1.19: Hint"
   ]
  },
  {
   "cell_type": "markdown",
   "metadata": {},
   "source": [
    "1) In [Example 1.9](#e1.8) we approximated the distribution of the number of Heads in five flips of a fair coin. In [Exercise 1.16](#ex1.16) we simulated flips of a coin that landed on heads 75% of the time and tails 25% of the time.\n",
    "\n",
    "2) In [Example 1.11](#e1.10) we used [`Binomial`](https://dlsun.github.io/symbulate/common_discrete.html#binomial) with `n=5` and `p=0.5` to simulate the number of Heads in five flips of a coin that lands on Heads with probability 0.5."
   ]
  },
  {
   "cell_type": "markdown",
   "metadata": {},
   "source": [
    "<a id='h1.20'></a>\n",
    "[Back](#e1.18)  "
   ]
  },
  {
   "cell_type": "markdown",
   "metadata": {},
   "source": [
    "### Exercise 1.20: Hint"
   ]
  },
  {
   "cell_type": "markdown",
   "metadata": {},
   "source": [
    "In [Exercise 1.8](#e1.7) we simulated the `sum` of two rolls.  To find the larger of the two rolls use [`.apply()`](https://dlsun.github.io/symbulate/sim.html#apply) with the `max` function. Use [`.tabulate()`](https://dlsun.github.io/symbulate/sim.html#tabulate) to summarize the approximate distribution and a [`.count`](https://dlsun.github.io/symbulate/sim.html#count) function to approximate the probability."
   ]
  },
  {
   "cell_type": "markdown",
   "metadata": {},
   "source": [
    "<a id='h1.21'></a>\n",
    "[Back](#e1.19)  "
   ]
  },
  {
   "cell_type": "markdown",
   "metadata": {},
   "source": [
    "[Back to Contents](#contents)\n",
    "<a id='solutions'></a>\n",
    "<a id='sol1.2'></a>"
   ]
  },
  {
   "cell_type": "markdown",
   "metadata": {},
   "source": [
    "## Solutions to Exercises"
   ]
  },
  {
   "cell_type": "markdown",
   "metadata": {},
   "source": [
    "### Exercise 1.2: Solution"
   ]
  },
  {
   "cell_type": "code",
   "execution_count": null,
   "metadata": {},
   "outputs": [],
   "source": [
    "die = BoxModel([1, 2, 3, 4, 5, 6])\n",
    "die.draw()"
   ]
  },
  {
   "cell_type": "markdown",
   "metadata": {},
   "source": [
    "[Back](#e1.2)\n",
    "<a id='sol1.4'></a>"
   ]
  },
  {
   "cell_type": "markdown",
   "metadata": {},
   "source": [
    "### Exercise 1.4: Solution"
   ]
  },
  {
   "cell_type": "code",
   "execution_count": null,
   "metadata": {},
   "outputs": [],
   "source": [
    "dice = BoxModel([1, 2, 3, 4, 5, 6], size=2)\n",
    "dice.draw()"
   ]
  },
  {
   "cell_type": "markdown",
   "metadata": {},
   "source": [
    "[Back](#e1.4)\n",
    "<a id='sol1.6'></a>"
   ]
  },
  {
   "cell_type": "markdown",
   "metadata": {},
   "source": [
    "### Exercise 1.6: Solution"
   ]
  },
  {
   "cell_type": "markdown",
   "metadata": {},
   "source": [
    "1) Simulate 3 sequences of 5 coin flips each."
   ]
  },
  {
   "cell_type": "code",
   "execution_count": null,
   "metadata": {},
   "outputs": [],
   "source": [
    "BoxModel([1, 0], size=5).sim(3) "
   ]
  },
  {
   "cell_type": "markdown",
   "metadata": {},
   "source": [
    "2) Simulate 5 sequences of 3 coin flips each."
   ]
  },
  {
   "cell_type": "code",
   "execution_count": null,
   "metadata": {},
   "outputs": [],
   "source": [
    "BoxModel([1, 0], size=3).sim(5) "
   ]
  },
  {
   "cell_type": "markdown",
   "metadata": {},
   "source": [
    "[Back](#e1.6)\n",
    "<a id='sol1.8'></a>"
   ]
  },
  {
   "cell_type": "markdown",
   "metadata": {},
   "source": [
    "### Exercise 1.8: Solution"
   ]
  },
  {
   "cell_type": "code",
   "execution_count": null,
   "metadata": {},
   "outputs": [],
   "source": [
    "dice = BoxModel([1, 2, 3, 4, 5, 6], size=2)\n",
    "dice.sim(10000).apply(sum)"
   ]
  },
  {
   "cell_type": "markdown",
   "metadata": {},
   "source": [
    "[Back](#e1.8)\n",
    "<a id='sol1.10'></a>"
   ]
  },
  {
   "cell_type": "markdown",
   "metadata": {},
   "source": [
    "### Exercise 1.10: Solution"
   ]
  },
  {
   "cell_type": "markdown",
   "metadata": {},
   "source": [
    "1) Create a table of relative frequencies of the simulated values."
   ]
  },
  {
   "cell_type": "code",
   "execution_count": null,
   "metadata": {},
   "outputs": [],
   "source": [
    "dice = BoxModel([1, 2, 3, 4, 5, 6], size=2)\n",
    "sims = dice.sim(10000).apply(sum)\n",
    "sims.tabulate(normalize=True)"
   ]
  },
  {
   "cell_type": "markdown",
   "metadata": {},
   "source": [
    "2) Use a [count](https://dlsun.github.io/symbulate/sim.html#count) function to estimate the probability that the sum of two dice rolls is greater than nine. (Bonus: try doing this several ways.)"
   ]
  },
  {
   "cell_type": "code",
   "execution_count": null,
   "metadata": {},
   "outputs": [],
   "source": [
    "sims.count_gt(9) / 10000"
   ]
  },
  {
   "cell_type": "code",
   "execution_count": null,
   "metadata": {},
   "outputs": [],
   "source": [
    "sims.count_geq(10) / 10000"
   ]
  },
  {
   "cell_type": "code",
   "execution_count": null,
   "metadata": {},
   "outputs": [],
   "source": [
    "1 - sims.count_leq(9) / 10000"
   ]
  },
  {
   "cell_type": "code",
   "execution_count": null,
   "metadata": {},
   "outputs": [],
   "source": [
    "1 - sims.count_lt(10) / 10000"
   ]
  },
  {
   "cell_type": "markdown",
   "metadata": {},
   "source": [
    "[Back](#e1.10)\n",
    "<a id='sol1.12'></a>"
   ]
  },
  {
   "cell_type": "markdown",
   "metadata": {},
   "source": [
    "### Exercise 1.12: Solution"
   ]
  },
  {
   "cell_type": "markdown",
   "metadata": {},
   "source": [
    "1) Use [`Binomial`](https://dlsun.github.io/symbulate/common_discrete.html#binomial) and [`.sim()`](https://dlsun.github.io/symbulate/sim.html#Simulate) to simulate 10000 values of the number of Heads in a sequence of 10 coin flips and tabulate the results."
   ]
  },
  {
   "cell_type": "code",
   "execution_count": null,
   "metadata": {},
   "outputs": [],
   "source": [
    "sims = Binomial(n=10, p=0.5).sim(10000)\n",
    "sims.tabulate()"
   ]
  },
  {
   "cell_type": "markdown",
   "metadata": {},
   "source": [
    "2) Use a [count](https://dlsun.github.io/symbulate/sim.html#count) function to estimate the probability of getting 7 or more heads out of 10 coin flips."
   ]
  },
  {
   "cell_type": "code",
   "execution_count": null,
   "metadata": {},
   "outputs": [],
   "source": [
    "sims.count_geq(7) / 10000"
   ]
  },
  {
   "cell_type": "markdown",
   "metadata": {},
   "source": [
    "[Back](#e1.12)\n",
    "<a id='sol1.14'></a>"
   ]
  },
  {
   "cell_type": "markdown",
   "metadata": {},
   "source": [
    "### Exercise 1.14: Solution"
   ]
  },
  {
   "cell_type": "code",
   "execution_count": null,
   "metadata": {},
   "outputs": [],
   "source": [
    "P = BoxModel([1, 3, 5, 7, 9]) * BoxModel([2, 4, 6, 8, 10])\n",
    "P.draw()"
   ]
  },
  {
   "cell_type": "markdown",
   "metadata": {},
   "source": [
    "[Back](#e1.14)\n",
    "<a id='sol1.16'></a>"
   ]
  },
  {
   "cell_type": "markdown",
   "metadata": {},
   "source": [
    "### Exercise 1.16: Solution"
   ]
  },
  {
   "cell_type": "code",
   "execution_count": null,
   "metadata": {},
   "outputs": [],
   "source": [
    "coin = BoxModel([\"Heads\", \"Tails\"], probs=[0.75, 0.25])\n",
    "coin.sim(10000).tabulate()"
   ]
  },
  {
   "cell_type": "markdown",
   "metadata": {},
   "source": [
    "[Back](#e1.16)  \n",
    "<a id='sol1.17'></a>"
   ]
  },
  {
   "cell_type": "markdown",
   "metadata": {},
   "source": [
    "### Exercise 1.17: Solution"
   ]
  },
  {
   "cell_type": "code",
   "execution_count": null,
   "metadata": {},
   "outputs": [],
   "source": [
    "rolls = BoxModel([1, 2, 3, 4, 5, 6]) * BoxModel([1, 2, 3, 4])\n",
    "sums = rolls.sim(10000).apply(sum)\n",
    "sums.tabulate(normalize=True)"
   ]
  },
  {
   "cell_type": "markdown",
   "metadata": {},
   "source": [
    "[Back](#e1.17)  \n",
    "<a id='sol1.18'></a>"
   ]
  },
  {
   "cell_type": "markdown",
   "metadata": {},
   "source": [
    "### Exercise 1.18: Solution"
   ]
  },
  {
   "cell_type": "code",
   "execution_count": null,
   "metadata": {},
   "outputs": [],
   "source": [
    "rolls = BoxModel({1: 1, 2: 1, 3: 2, 4: 2}) * BoxModel([1, 2, 3, 4])\n",
    "sims = rolls.sim(10000).apply(sum)\n",
    "sims.count_geq(6)/10000"
   ]
  },
  {
   "cell_type": "markdown",
   "metadata": {},
   "source": [
    "[Back](#e1.18)  \n",
    "<a id='sol1.19'></a>"
   ]
  },
  {
   "cell_type": "markdown",
   "metadata": {},
   "source": [
    "### Exercise 1.19: Solution"
   ]
  },
  {
   "cell_type": "markdown",
   "metadata": {},
   "source": [
    "1) Use simulation to display the relative frequencies of the number of heads in 4 flips of the special coin using an apply() function."
   ]
  },
  {
   "cell_type": "code",
   "execution_count": null,
   "metadata": {},
   "outputs": [],
   "source": [
    "coins = BoxModel([1, 0], probs = [0.6, 0.4], size=4)\n",
    "coins.sim(10000).apply(sum).tabulate(normalize=True)"
   ]
  },
  {
   "cell_type": "markdown",
   "metadata": {},
   "source": [
    "2) Use simulation to display the relative frequencies of the number of heads in 4 flips of the special coin using the Binomial distribution."
   ]
  },
  {
   "cell_type": "code",
   "execution_count": null,
   "metadata": {},
   "outputs": [],
   "source": [
    "Binomial(n=4, p=0.6).sim(10000).tabulate(normalize=True)"
   ]
  },
  {
   "cell_type": "markdown",
   "metadata": {},
   "source": [
    "[Back](#e1.19)  \n",
    "<a id='sol1.20'></a>"
   ]
  },
  {
   "cell_type": "markdown",
   "metadata": {},
   "source": [
    "### Exercise 1.20: Solution"
   ]
  },
  {
   "cell_type": "code",
   "execution_count": null,
   "metadata": {},
   "outputs": [],
   "source": [
    "dice = BoxModel([1, 2, 3, 4, 5, 6], size=2)\n",
    "sims = dice.sim(10000).apply(max)\n",
    "sims.tabulate(normalize=True)"
   ]
  },
  {
   "cell_type": "code",
   "execution_count": null,
   "metadata": {},
   "outputs": [],
   "source": [
    "sims.count_geq(5) / 10000"
   ]
  },
  {
   "cell_type": "markdown",
   "metadata": {},
   "source": [
    "[Back](#e1.20)  \n",
    "<a id='sol1.21'></a>"
   ]
  },
  {
   "cell_type": "markdown",
   "metadata": {},
   "source": [
    "<[Contents](index.ipynb) | [Random variables](gs_rv.ipynb)>"
   ]
  },
  {
   "cell_type": "code",
   "execution_count": null,
   "metadata": {
    "collapsed": true
   },
   "outputs": [],
   "source": []
  }
 ],
 "metadata": {
  "kernelspec": {
   "display_name": "Python 3",
   "language": "python",
   "name": "python3"
  },
  "language_info": {
   "codemirror_mode": {
    "name": "ipython",
    "version": 3
   },
   "file_extension": ".py",
   "mimetype": "text/x-python",
   "name": "python",
   "nbconvert_exporter": "python",
   "pygments_lexer": "ipython3",
   "version": "3.6.1"
  }
 },
 "nbformat": 4,
 "nbformat_minor": 2
}
