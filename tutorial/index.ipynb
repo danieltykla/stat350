{
 "cells": [
  {
   "cell_type": "markdown",
   "metadata": {
    "collapsed": true
   },
   "source": [
    "# Getting Started with Symbulate"
   ]
  },
  {
   "cell_type": "markdown",
   "metadata": {},
   "source": [
    "<a id='contents'></a>"
   ]
  },
  {
   "cell_type": "markdown",
   "metadata": {},
   "source": [
    "The Python package [Symbulate](https://github.com/dlsun/symbulate) provides a user friendly framework for conducting simulations involving probability models. The syntax of Symbulate mirrors the \"language of probability\" and makes it intuitive to specify, run, analyze, and visualize the results of a simulation."
   ]
  },
  {
   "cell_type": "markdown",
   "metadata": {},
   "source": [
    "This tutorial contains short examples and exercises to help you get started using Symbulate. Completing each section takes about 2o to 30 minutes.  The tutorial requires no previous background in probability or familiarity with Python."
   ]
  },
  {
   "cell_type": "markdown",
   "metadata": {},
   "source": [
    "<a id='contents'></a>\n",
    "1. [**Probability spaces**](gs_probspace.ipynb)\n",
    "1. [**Random variables**](gs_rv.ipynb)\n",
    "1. [**Multiple random variables and joint distributions**](gs_joint.ipynb)\n",
    "1. [**Conditioning**](gs_conditioning.ipynb)"
   ]
  },
  {
   "cell_type": "markdown",
   "metadata": {},
   "source": [
    "Instructions for downloading and installing Symbulate can be found [here](http://calpoly.edu/~dsun09/python.html).  \n",
    "**Every time you start Symbulate**, you must first run (SHIFT-ENTER) the following commands."
   ]
  },
  {
   "cell_type": "code",
   "execution_count": null,
   "metadata": {
    "collapsed": true
   },
   "outputs": [],
   "source": [
    "from symbulate import *\n",
    "%matplotlib inline"
   ]
  },
  {
   "cell_type": "markdown",
   "metadata": {},
   "source": [
    "This tutorial is a series of Jupyter notebooks which contain text, code, and output.  You can run the code in a particular cell using (SHIFT-ENTER).  Any output is displayed below."
   ]
  },
  {
   "cell_type": "code",
   "execution_count": null,
   "metadata": {
    "collapsed": true
   },
   "outputs": [],
   "source": [
    "### Type your commands in this cell and then run using SHIFT-ENTER.\n",
    "1 + 2"
   ]
  },
  {
   "cell_type": "markdown",
   "metadata": {},
   "source": [
    "Information about Jupyter notebooks can be found [here](http://jupyter.org/index.html). Full documentation of the Symbulate package cab be found [here](https://dlsun.github.io/symbulate/index.html).  Links to documentation on particular topics are provided throughout the tutorial.  Help documentation for a particular command can be accessed in a Jupyter notebook using the question mark `?` followed by the named of the object for which help is desired."
   ]
  },
  {
   "cell_type": "code",
   "execution_count": null,
   "metadata": {
    "collapsed": true
   },
   "outputs": [],
   "source": [
    "?BoxModel"
   ]
  },
  {
   "cell_type": "markdown",
   "metadata": {},
   "source": [
    "[Contents](#contents) | [Probability spaces](gs_probspace.ipynb)>"
   ]
  },
  {
   "cell_type": "code",
   "execution_count": null,
   "metadata": {
    "collapsed": true
   },
   "outputs": [],
   "source": []
  }
 ],
 "metadata": {
  "kernelspec": {
   "display_name": "Python 3",
   "language": "python",
   "name": "python3"
  },
  "language_info": {
   "codemirror_mode": {
    "name": "ipython",
    "version": 3
   },
   "file_extension": ".py",
   "mimetype": "text/x-python",
   "name": "python",
   "nbconvert_exporter": "python",
   "pygments_lexer": "ipython3",
   "version": "3.6.1"
  }
 },
 "nbformat": 4,
 "nbformat_minor": 2
}
